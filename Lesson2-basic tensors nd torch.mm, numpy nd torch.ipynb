{
 "cells": [
  {
   "cell_type": "code",
   "execution_count": 1,
   "metadata": {},
   "outputs": [],
   "source": [
    "\"\"\"Prog1 with 3 i/p features and no hidden layers\"\"\""
   ]
  },
  {
   "cell_type": "code",
   "execution_count": null,
   "metadata": {},
   "outputs": [],
   "source": [
    "import torch"
   ]
  },
  {
   "cell_type": "code",
   "execution_count": 4,
   "metadata": {},
   "outputs": [],
   "source": [
    "def activation(x):\n",
    "    \"\"\"Sigmoid activation function(for o/p to be probability)....Arguments : x = torch.Tensor\"\"\"\n",
    "    return 1/(1+torch.exp(-x))"
   ]
  },
  {
   "cell_type": "code",
   "execution_count": 6,
   "metadata": {},
   "outputs": [],
   "source": [
    "\"\"\"Generate some data\"\"\"\n",
    "torch.manual_seed(7) #Set the random seed so that things are predictable\n",
    "\n",
    "\"\"\"Features are 5 random normal variables\"\"\"\n",
    "features=torch.randn((1,5)) #2d tensor of 1 row nd 5 columns\n",
    "\n",
    "\"\"\"True weights for our data, random normal variables again\"\"\"\n",
    "weights = torch.randn_like(features)\n",
    "\n",
    "\"\"\"and a true bias term\"\"\"\n",
    "bias=torch.randn((1,1))"
   ]
  },
  {
   "cell_type": "code",
   "execution_count": 10,
   "metadata": {},
   "outputs": [
    {
     "name": "stdout",
     "output_type": "stream",
     "text": [
      "tensor([[0.1595]])\n",
      "tensor([[0.1595]])\n"
     ]
    }
   ],
   "source": [
    "\"\"\"Solution\"\"\"\n",
    "\n",
    "#making labels from data and weights\n",
    "\n",
    "y=activation(torch.sum(features*weights)+bias)\n",
    "print(y)\n",
    "#OR\n",
    "y=activation((features*weights).sum()+bias)\n",
    "print(y)"
   ]
  },
  {
   "cell_type": "code",
   "execution_count": 16,
   "metadata": {},
   "outputs": [
    {
     "name": "stdout",
     "output_type": "stream",
     "text": [
      "tensor([[0.1595]])\n"
     ]
    }
   ],
   "source": [
    "#torch.mm(features,weights) #error bcz order of weights nd features is 1*5. we need to transpose weights\n",
    "y=activation(torch.mm(features,weights.view(5,1)) + bias) #more efficient than torch.sum()\n",
    "print(y)"
   ]
  },
  {
   "cell_type": "code",
   "execution_count": 28,
   "metadata": {},
   "outputs": [
    {
     "name": "stdout",
     "output_type": "stream",
     "text": [
      "tensor([[-0.1468,  0.7861,  0.9468]])\n",
      "tensor([[-1.1143,  1.6908],\n",
      "        [-0.8948, -0.3556],\n",
      "        [ 1.2324,  0.1382]])\n",
      "tensor([[-1.6822],\n",
      "        [ 0.3177]])\n",
      "tensor([[0.1328, 0.1373]])\n",
      "tensor([[0.2405]])\n",
      "tensor([[0.3171]])\n"
     ]
    }
   ],
   "source": [
    "\"\"\"Prog2 with 1 hidden layer with 2 items in it...3 i/p features and 1 o/p\"\"\"\n",
    "import torch\n",
    "torch.manual_seed(7)\n",
    "features=torch.randn((1,3))\n",
    "\n",
    "def activation(x):\n",
    "    \"\"\"Sigmoid activation function(for o/p to be probability)....Arguments : x = torch.Tensor\"\"\"\n",
    "    return 1/(1+torch.exp(-x))\n",
    "\n",
    "# Define the size of each layer in our network\n",
    "n_input = features.shape[1]     # Number of input units, must match number of input features\n",
    "n_hidden = 2                    # Number of hidden units\n",
    "n_output = 1                    # Number of output units\n",
    "\n",
    "# Weights for inputs to hidden layer\n",
    "W1 = torch.randn((n_input, n_hidden))\n",
    "# Weights for hidden layer to output layer\n",
    "W2 = torch.randn((n_hidden, n_output))\n",
    "\n",
    "# and bias terms for hidden and output layers\n",
    "B1 = torch.randn((1, n_hidden))\n",
    "B2 = torch.randn((1, n_output))\n",
    "\n",
    "\"\"\"print(features)\n",
    "print(W1)\n",
    "print(W2)\n",
    "print(B1)\n",
    "print(B2)\"\"\"\n",
    "#output\n",
    "#hidden layer values\n",
    "h=activation(torch.mm(features, W1) + B1)\n",
    "y=activation(torch.mm(h, W2) + B2)\n",
    "print(y)\n"
   ]
  },
  {
   "cell_type": "code",
   "execution_count": 25,
   "metadata": {},
   "outputs": [
    {
     "name": "stdout",
     "output_type": "stream",
     "text": [
      "[[0.31032805 0.32680047 0.98567641]\n",
      " [0.95156243 0.85335541 0.50641539]\n",
      " [0.82482037 0.53984041 0.85059938]\n",
      " [0.48317152 0.25027781 0.83568966]]\n",
      "tensor([[0.3103, 0.3268, 0.9857],\n",
      "        [0.9516, 0.8534, 0.5064],\n",
      "        [0.8248, 0.5398, 0.8506],\n",
      "        [0.4832, 0.2503, 0.8357]], dtype=torch.float64)\n",
      "tensor([[0.6207, 0.6536, 1.9714],\n",
      "        [1.9031, 1.7067, 1.0128],\n",
      "        [1.6496, 1.0797, 1.7012],\n",
      "        [0.9663, 0.5006, 1.6714]], dtype=torch.float64)\n",
      "[[0.6206561  0.65360095 1.97135283]\n",
      " [1.90312486 1.70671081 1.01283078]\n",
      " [1.64964073 1.07968082 1.70119877]\n",
      " [0.96634303 0.50055562 1.67137931]]\n"
     ]
    }
   ],
   "source": [
    "\"\"\"Numpy to torch nd vice versa\"\"\"\n",
    "import numpy as np\n",
    "\n",
    "#random array\n",
    "a=np.random.rand(4,3)\n",
    "print(a)\n",
    "\n",
    "#torch tensor from array\n",
    "b=torch.from_numpy(a)\n",
    "print(b)\n",
    "\n",
    "#tensor to numpy array\n",
    "b.numpy()\n",
    "\n",
    "\"\"\"Memory is shared between array nd tensor...any inplace operation changing value in any1 will reflect in the other as well\"\"\"\n",
    "\n",
    "#Modifying tensor\n",
    "print(b.mul_(2))\n",
    "#Values in array also change\n",
    "print(a)\n",
    "\n",
    "\n"
   ]
  },
  {
   "cell_type": "code",
   "execution_count": null,
   "metadata": {},
   "outputs": [],
   "source": []
  }
 ],
 "metadata": {
  "kernelspec": {
   "display_name": "Python 3",
   "language": "python",
   "name": "python3"
  },
  "language_info": {
   "codemirror_mode": {
    "name": "ipython",
    "version": 3
   },
   "file_extension": ".py",
   "mimetype": "text/x-python",
   "name": "python",
   "nbconvert_exporter": "python",
   "pygments_lexer": "ipython3",
   "version": "3.7.1"
  }
 },
 "nbformat": 4,
 "nbformat_minor": 2
}
