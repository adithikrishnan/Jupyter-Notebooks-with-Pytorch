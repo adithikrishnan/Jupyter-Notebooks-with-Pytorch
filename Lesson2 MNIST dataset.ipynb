{
 "cells": [
  {
   "cell_type": "code",
   "execution_count": 1,
   "metadata": {},
   "outputs": [],
   "source": [
    "#Download and load dataset\n",
    "import torch\n",
    "from torchvision import datasets, transforms\n",
    "\n",
    "#Defining transform to normalize the data\n",
    "transform=transforms.Compose([transforms.ToTensor(),transforms.Normalize((0.5,),(0.5,)),])\n",
    "\n",
    "#Donwload and load the training data\n",
    "trainset=datasets.MNIST('MNIST_data/', download=True, train=True, transform=transform)\n",
    "trainloader=torch.utils.data.DataLoader(trainset, batch_size=64, shuffle=True) #loads 64 images in each batch\n"
   ]
  },
  {
   "cell_type": "code",
   "execution_count": 3,
   "metadata": {},
   "outputs": [
    {
     "name": "stdout",
     "output_type": "stream",
     "text": [
      "<class 'torch.Tensor'>\n",
      "torch.Size([64, 1, 28, 28])\n",
      "torch.Size([64])\n"
     ]
    }
   ],
   "source": [
    "dataiter = iter(trainloader)\n",
    "images, labels = dataiter.next()\n",
    "print(type(images))\n",
    "print(images.shape)\n",
    "print(labels.shape)"
   ]
  },
  {
   "cell_type": "code",
   "execution_count": 14,
   "metadata": {},
   "outputs": [
    {
     "data": {
      "image/png": "[encoded data removed]",
      "text/plain": [
       "<Figure size 432x288 with 1 Axes>"
      ]
     },
     "metadata": {
      "needs_background": "light"
     },
     "output_type": "display_data"
    }
   ],
   "source": [
    "import matplotlib\n",
    "matplotlib.pyplot.imshow(images[1].numpy().squeeze(), cmap='Greys_r',);"
   ]
  },
  {
   "cell_type": "code",
   "execution_count": null,
   "metadata": {},
   "outputs": [],
   "source": [
    "#Sigmoid activation function\n",
    "def activation(x):\n",
    "    return 1/(1+torch.exp(-x))"
   ]
  },
  {
   "cell_type": "code",
   "execution_count": null,
   "metadata": {},
   "outputs": [],
   "source": [
    "#Flattening the i/p images\n",
    "inputs=images.view(images.shape[0], -1) #shape[0]=64, can use -1 or 784 to flatten out the other dimensions nd retain only batch size\n",
    "\n",
    "#Create parameters\n",
    "w1=torch.randn(784,256)\n",
    "b1=torch.randn(256)\n",
    "\n",
    "w2=torch.randn(256,10)\n",
    "b2=torch.randn(10)\n",
    "\n",
    "h=activation(torch.mm(inputs, w1) + b1)\n",
    "out=torch.mm(h, w2) + b2\n",
    "print(out.shape)\n",
    "print(out)"
   ]
  },
  {
   "cell_type": "code",
   "execution_count": null,
   "metadata": {},
   "outputs": [],
   "source": [
    "#Softmax function to print class probability\n",
    "def softmax(x):\n",
    "    return torch.exp(x)/torch.sum(torch.exp(x), dim=1).view(-1,1)#torch.sum() takes the sum of all columns in each row\n",
    "probabilities = softmax(out)\n",
    "\"\"\"In the above func, numerator is 64,10 nd denominator torch.sum is just a 64 long vector...this function divides each\n",
    "value in numerator by all 64 values in denom and output will be 64/64 whereas we need 64,10. so we reshape it to have 64 \n",
    "rows and 1 elem in each row. Now each row in num is divided by single value in denom row. hence we get 64,10 tensor\"\"\"\n",
    "\n",
    "#Does it have correct shape as (64,10)?\n",
    "print(probabilities.shape)\n",
    "\n",
    "#Does it sum up to 1?\n",
    "print(probabilities.sum(dim=1))"
   ]
  },
  {
   "cell_type": "code",
   "execution_count": null,
   "metadata": {},
   "outputs": [],
   "source": [
    "#Building the neural network using nn \n",
    "\n",
    "from torch import nn\n",
    "import torch.nn.functional as F\n",
    "\n",
    "class Network(nn.Module):\n",
    "    def __init__(self):\n",
    "        super().__init__()\n",
    "        \n",
    "        #Input to hidden layer linear transformation\n",
    "        self.hidden=nn.Linear(784,256) #Creates weights nd bias by itself\n",
    "        #Output layer, 10 units- one for each digit\n",
    "        self.output=nn.Linear(256,10)\n",
    "        \n",
    "        #define sigmoid activation and softmax output\n",
    "        self.sigmoid=nn.Sigmoid()\n",
    "        self.softmax=nn.Softmax(dim=1)\n",
    "        \n",
    "    def forward(self, x):\n",
    "        #Passing i/p tensor through each of the operations\n",
    "        \"\"\"x=self.hidden(x)\n",
    "        x=self.sigmoid(x)\n",
    "        x=self.output(x)\n",
    "        x=self.softmax(x)\"\"\"\n",
    "        #This is cleaner code with functional definiton for sigmoid and softmaz\n",
    "        #Hidden layer with sigmoid activation\n",
    "        x=F.sigmoid(self.hidden(x))\n",
    "        #Output layer with softmax activation\n",
    "        x=F.softmax(self.output(x), dim=1)\n",
    "        \n",
    "        return x"
   ]
  },
  {
   "cell_type": "code",
   "execution_count": null,
   "metadata": {},
   "outputs": [],
   "source": [
    "model = Network()\n",
    "print(model)"
   ]
  },
  {
   "cell_type": "code",
   "execution_count": 5,
   "metadata": {},
   "outputs": [],
   "source": [
    "#NEXT PROGRAM \"USING BACKPROPAGATION AND CROSS ENTROPY LOSS\""
   ]
  },
  {
   "cell_type": "code",
   "execution_count": 29,
   "metadata": {},
   "outputs": [],
   "source": [
    "import torch\n",
    "from torch import nn\n",
    "import torch.nn.functional as F\n",
    "from torchvision import datasets, transforms\n",
    "\n",
    "transform = transforms.Compose([transforms.ToTensor(), transforms.Normalize((0.5,), (0.5,)),])\n",
    "\n",
    "trainset=datasets.MNIST('~/.pytorch/MNIST_data/', download=True, train=True, transform=transform)\n",
    "trainloader=torch.utils.data.DataLoader(trainset, batch_size=64, shuffle=True)"
   ]
  },
  {
   "cell_type": "code",
   "execution_count": 30,
   "metadata": {},
   "outputs": [
    {
     "name": "stdout",
     "output_type": "stream",
     "text": [
      "tensor(2.3035, grad_fn=<NllLossBackward>)\n"
     ]
    }
   ],
   "source": [
    "#Building a feed forward network\n",
    "model=nn.Sequential(nn.Linear(784,128), nn.ReLU(), nn.Linear(128,64),nn.ReLU(), nn.Linear(64,10)) #ReLU=Rectified Linear Unit activation function\n",
    "\n",
    "criterion=nn.CrossEntropyLoss()\n",
    "\n",
    "imag, label = next(iter(trainloader))\n",
    "imag=imag.view(imag.shape[0], -1)\n",
    "\n",
    "#Forward pass to get logits\n",
    "logits=model(imag)\n",
    "\n",
    "#Calculating loss with logits and labels\n",
    "loss=criterion(logits, label)\n",
    "\n",
    "print(loss)"
   ]
  },
  {
   "cell_type": "code",
   "execution_count": 31,
   "metadata": {},
   "outputs": [],
   "source": [
    "#NEXT PROGRAM \"FOR getting log_softmax activation function output\""
   ]
  },
  {
   "cell_type": "code",
   "execution_count": 32,
   "metadata": {},
   "outputs": [
    {
     "name": "stdout",
     "output_type": "stream",
     "text": [
      "tensor(2.3058, grad_fn=<NllLossBackward>)\n"
     ]
    }
   ],
   "source": [
    "model=nn.Sequential(nn.Linear(784,128), nn.ReLU(), nn.Linear(128,64),nn.ReLU(), nn.Linear(64,10), nn.LogSoftmax(dim=1))\n",
    "\n",
    "criterion=nn.NLLLoss() #Negative log likelihood loss\n",
    "\n",
    "imag, label = next(iter(trainloader))\n",
    "imag=imag.view(imag.shape[0], -1)\n",
    "\n",
    "#Forward pass to get logits\n",
    "logits=model(imag)\n",
    "\n",
    "#Calculating loss with logits and labels\n",
    "loss=criterion(logits, label)\n",
    "\n",
    "print(loss)"
   ]
  },
  {
   "cell_type": "code",
   "execution_count": null,
   "metadata": {},
   "outputs": [],
   "source": [
    "#PRACTICE PROGRAM FOR GRADIENT AND OPTIMISERS"
   ]
  },
  {
   "cell_type": "code",
   "execution_count": 33,
   "metadata": {},
   "outputs": [
    {
     "name": "stdout",
     "output_type": "stream",
     "text": [
      "Before backward pass:\n",
      " None\n",
      "After backward pass:\n",
      " tensor([[-0.0024, -0.0024, -0.0024,  ..., -0.0024, -0.0024, -0.0024],\n",
      "        [ 0.0000,  0.0000,  0.0000,  ...,  0.0000,  0.0000,  0.0000],\n",
      "        [-0.0036, -0.0036, -0.0036,  ..., -0.0036, -0.0036, -0.0036],\n",
      "        ...,\n",
      "        [-0.0099, -0.0099, -0.0099,  ..., -0.0099, -0.0099, -0.0099],\n",
      "        [-0.0011, -0.0011, -0.0011,  ..., -0.0011, -0.0011, -0.0011],\n",
      "        [-0.0054, -0.0054, -0.0054,  ..., -0.0054, -0.0054, -0.0054]])\n"
     ]
    }
   ],
   "source": [
    "print(\"Before backward pass:\\n\", model[0].weight.grad)#model[0] is for frst linear transformation i.e. Linear(784,128)\n",
    "loss.backward()\n",
    "print(\"After backward pass:\\n\", model[0].weight.grad)"
   ]
  },
  {
   "cell_type": "code",
   "execution_count": 34,
   "metadata": {},
   "outputs": [],
   "source": [
    "from torch import optim\n",
    "\n",
    "#Optimizers require parameters of model that has to be optimised nd learning rate as arguments\n",
    "optimizer = optim.SGD(model.parameters(), lr=0.01) #Stochastic Gradient Descent"
   ]
  },
  {
   "cell_type": "code",
   "execution_count": 38,
   "metadata": {},
   "outputs": [
    {
     "name": "stdout",
     "output_type": "stream",
     "text": [
      "Initial weights - \n",
      " Parameter containing:\n",
      "tensor([[-0.0278,  0.0291, -0.0129,  ..., -0.0080,  0.0233,  0.0248],\n",
      "        [ 0.0071, -0.0064,  0.0305,  ...,  0.0344,  0.0008, -0.0018],\n",
      "        [ 0.0220, -0.0235, -0.0259,  ...,  0.0167,  0.0130, -0.0280],\n",
      "        ...,\n",
      "        [-0.0104,  0.0202, -0.0281,  ..., -0.0316, -0.0254, -0.0082],\n",
      "        [ 0.0009,  0.0135, -0.0047,  ...,  0.0033,  0.0011, -0.0312],\n",
      "        [ 0.0273,  0.0218, -0.0266,  ...,  0.0286,  0.0158, -0.0252]],\n",
      "       requires_grad=True)\n",
      "Gradient - \n",
      " tensor([[-0.0014, -0.0014, -0.0014,  ..., -0.0014, -0.0014, -0.0014],\n",
      "        [ 0.0000,  0.0000,  0.0000,  ...,  0.0000,  0.0000,  0.0000],\n",
      "        [ 0.0049,  0.0049,  0.0049,  ...,  0.0049,  0.0049,  0.0049],\n",
      "        ...,\n",
      "        [ 0.0029,  0.0029,  0.0029,  ...,  0.0029,  0.0029,  0.0029],\n",
      "        [-0.0008, -0.0008, -0.0008,  ..., -0.0008, -0.0008, -0.0008],\n",
      "        [-0.0006, -0.0006, -0.0006,  ..., -0.0006, -0.0006, -0.0006]])\n"
     ]
    }
   ],
   "source": [
    "print(\"Initial weights - \\n\", model[0].weight)\n",
    "\n",
    "images, labels = next(iter(trainloader))\n",
    "images.resize_(64,784)\n",
    "\n",
    "#Clearing gradients cuz they might be accumulated\n",
    "optimizer.zero_grad() #very important\n",
    "\n",
    "#Forward pass, then backward pass, then update weights\n",
    "output=model.forward(images)\n",
    "loss=criterion(output, labels)\n",
    "loss.backward()\n",
    "print(\"Gradient - \\n\", model[0].weight.grad)"
   ]
  },
  {
   "cell_type": "code",
   "execution_count": 40,
   "metadata": {},
   "outputs": [
    {
     "name": "stdout",
     "output_type": "stream",
     "text": [
      "Updated weights - \n",
      " Parameter containing:\n",
      "tensor([[-0.0278,  0.0292, -0.0129,  ..., -0.0080,  0.0233,  0.0249],\n",
      "        [ 0.0071, -0.0064,  0.0305,  ...,  0.0344,  0.0008, -0.0018],\n",
      "        [ 0.0219, -0.0236, -0.0260,  ...,  0.0166,  0.0129, -0.0281],\n",
      "        ...,\n",
      "        [-0.0105,  0.0201, -0.0281,  ..., -0.0317, -0.0254, -0.0082],\n",
      "        [ 0.0009,  0.0135, -0.0047,  ...,  0.0033,  0.0011, -0.0312],\n",
      "        [ 0.0273,  0.0218, -0.0266,  ...,  0.0286,  0.0158, -0.0252]],\n",
      "       requires_grad=True)\n"
     ]
    }
   ],
   "source": [
    "#Weight updation STEP\n",
    "optimizer.step()\n",
    "print(\"Updated weights - \\n\", model[0].weight)"
   ]
  },
  {
   "cell_type": "code",
   "execution_count": null,
   "metadata": {},
   "outputs": [],
   "source": [
    "#PRACTICE PROGRAMS ENDS HERE"
   ]
  },
  {
   "cell_type": "code",
   "execution_count": null,
   "metadata": {},
   "outputs": [],
   "source": [
    "#FINAL PROGRAM FOR TRAINING PASS"
   ]
  },
  {
   "cell_type": "code",
   "execution_count": 1,
   "metadata": {},
   "outputs": [
    {
     "name": "stdout",
     "output_type": "stream",
     "text": [
      "Training loss: 1.8303418678007146 \n",
      "Training loss: 0.7772150211242724 \n",
      "Training loss: 0.5052098759265342 \n",
      "Training loss: 0.4237534903259928 \n",
      "Training loss: 0.3837642736240491 \n"
     ]
    }
   ],
   "source": [
    "import torch\n",
    "from torch import nn\n",
    "from torch import optim\n",
    "import torch.nn.functional as F\n",
    "from torchvision import datasets, transforms\n",
    "\n",
    "transform = transforms.Compose([transforms.ToTensor(), transforms.Normalize((0.5,), (0.5,)),])\n",
    "\n",
    "trainset=datasets.MNIST('~/.pytorch/MNIST_data/', download=True, train=True, transform=transform)\n",
    "trainloader=torch.utils.data.DataLoader(trainset, batch_size=64, shuffle=True)\n",
    "\n",
    "model=nn.Sequential(nn.Linear(784,128), \n",
    "                    nn.ReLU(), \n",
    "                    nn.Linear(128,64),\n",
    "                    nn.ReLU(), \n",
    "                    nn.Linear(64,10), \n",
    "                    nn.LogSoftmax(dim=1))\n",
    "\n",
    "criterion=nn.NLLLoss() #Negative log likelihood loss\n",
    "optimizer=optim.SGD(model.parameters(), lr=0.003) #Optimizer\n",
    "\n",
    "epochs=5 #each pass through the entire training set is called epochs\n",
    "for e in range(epochs):\n",
    "    running_loss = 0\n",
    "    for images, labels in trainloader:\n",
    "        images=images.view(images.shape[0], -1) #Flattening MNIST images into a 784 long vector\n",
    "        \n",
    "        #TODO: training pass\n",
    "        optimizer.zero_grad()\n",
    "        \n",
    "        output=model.forward(images)\n",
    "        loss=criterion(output, labels)\n",
    "        loss.backward()\n",
    "        optimizer.step()\n",
    "        \n",
    "        running_loss += loss.item()\n",
    "        \n",
    "    else:\n",
    "        print(f\"Training loss: {running_loss/len(trainloader)} \")"
   ]
  },
  {
   "cell_type": "code",
   "execution_count": 9,
   "metadata": {},
   "outputs": [
    {
     "data": {
      "text/plain": [
       "<Figure size 432x288 with 0 Axes>"
      ]
     },
     "metadata": {},
     "output_type": "display_data"
    }
   ],
   "source": [
    "import matplotlib.pyplot as plt\n",
    "import numpy as np\n",
    "\n",
    "def view_classify(img, ps, version=\"MNIST\"):\n",
    "    ''' Function for viewing an image and it's predicted classes.\n",
    "    '''\n",
    "    ps = ps.data.numpy().squeeze()\n",
    "\n",
    "    fig, (ax1, ax2) = plt.subplots(figsize=(6,9), ncols=2)\n",
    "    ax1.imshow(img.resize_(1, 28, 28).numpy().squeeze())\n",
    "    ax1.axis('off')\n",
    "    ax2.barh(np.arange(10), ps)\n",
    "    ax2.set_aspect(0.1)\n",
    "    ax2.set_yticks(np.arange(10))\n",
    "    if version == \"MNIST\":\n",
    "        ax2.set_yticklabels(np.arange(10))\n",
    "    elif version == \"Fashion\":\n",
    "        ax2.set_yticklabels(['T-shirt/top',\n",
    "                            'Trouser',\n",
    "                            'Pullover',\n",
    "                            'Dress',\n",
    "                            'Coat',\n",
    "                            'Sandal',\n",
    "                            'Shirt',\n",
    "                            'Sneaker',\n",
    "                            'Bag',\n",
    "                            'Ankle Boot'], size='small');\n",
    "    ax2.set_title('Class Probability')\n",
    "    ax2.set_xlim(0, 1.1)\n",
    "\n",
    "plt.tight_layout()"
   ]
  },
  {
   "cell_type": "code",
   "execution_count": 17,
   "metadata": {},
   "outputs": [
    {
     "data": {
      "image/png": "[encoded data removed]",
      "text/plain": [
       "<Figure size 432x648 with 2 Axes>"
      ]
     },
     "metadata": {
      "needs_background": "light"
     },
     "output_type": "display_data"
    }
   ],
   "source": [
    "%matplotlib inline\n",
    "import helper\n",
    "\n",
    "images, labels = next(iter(trainloader))\n",
    "\n",
    "img=images[63].view(1,784)\n",
    "#Turn off gradients to speed up this part\n",
    "with torch.no_grad():\n",
    "    logits=model.forward(img)\n",
    "\n",
    "#Output of the network are logits. we need to take softmax for probabilities\n",
    "ps=F.softmax(logits, dim=1)\n",
    "view_classify(img.view(1,28,28), ps)"
   ]
  },
  {
   "cell_type": "code",
   "execution_count": null,
   "metadata": {},
   "outputs": [],
   "source": []
  }
 ],
 "metadata": {
  "kernelspec": {
   "display_name": "Python 3",
   "language": "python",
   "name": "python3"
  },
  "language_info": {
   "codemirror_mode": {
    "name": "ipython",
    "version": 3
   },
   "file_extension": ".py",
   "mimetype": "text/x-python",
   "name": "python",
   "nbconvert_exporter": "python",
   "pygments_lexer": "ipython3",
   "version": "3.7.1"
  }
 },
 "nbformat": 4,
 "nbformat_minor": 2
}
