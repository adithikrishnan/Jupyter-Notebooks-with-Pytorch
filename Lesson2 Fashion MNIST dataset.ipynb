{
 "cells": [
  {
   "cell_type": "code",
   "execution_count": 3,
   "metadata": {},
   "outputs": [],
   "source": [
    "import torch\n",
    "from torch import nn, optim\n",
    "import torch.nn.functional as F"
   ]
  },
  {
   "cell_type": "code",
   "execution_count": 4,
   "metadata": {},
   "outputs": [],
   "source": [
    "from torchvision import datasets, transforms\n",
    "\n",
    "#Defining transform to normalize the data\n",
    "transform=transforms.Compose([transforms.ToTensor(),transforms.Normalize((0.5,),(0.5,)),])\n",
    "\n",
    "#Donwload and load the training data\n",
    "trainset=datasets.FashionMNIST('FashionMNIST_data/', download=True, train=True, transform=transform)\n",
    "trainloader=torch.utils.data.DataLoader(trainset, batch_size=64, shuffle=True) #loads 64 images in each batch"
   ]
  },
  {
   "cell_type": "code",
   "execution_count": 5,
   "metadata": {},
   "outputs": [],
   "source": [
    "#Download and load the test data\n",
    "testset=datasets.FashionMNIST('FashionMNIST_data/', download=True, train=False, transform=transform)\n",
    "testloader=torch.utils.data.DataLoader(testset, batch_size=64, shuffle=True) #loads 64 images in each batch"
   ]
  },
  {
   "cell_type": "code",
   "execution_count": 34,
   "metadata": {},
   "outputs": [],
   "source": [
    "#NETWORK ARCHITECTURE\n",
    "class Classifier(nn.Module):\n",
    "    def __init__(self):\n",
    "        super().__init__()\n",
    "        self.fc1=nn.Linear(784,256)\n",
    "        self.fc2=nn.Linear(256,128)\n",
    "        self.fc3=nn.Linear(128,64)\n",
    "        self.fc4=nn.Linear(64,10)\n",
    "        \n",
    "        #Dropout module with drop probability of 0.2 i.e. 20% prob of dropping a unit\n",
    "        self.dropout=nn.Dropout(p=0.2) #Comment this line to show overfitting graph\n",
    "        \n",
    "    def forward(self, x):\n",
    "        x=x.view(x.shape[0], -1) #Flattening the tensor\n",
    "        x=self.dropout(F.relu(self.fc1(x))) #remove self.dropout() to demonstrate overfitting graph\n",
    "        x=self.dropout(F.relu(self.fc2(x)))\n",
    "        x=self.dropout(F.relu(self.fc3(x)))\n",
    "        x=F.log_softmax(self.fc4(x), dim=1) #no dropout here cuz it is output\n",
    "        \n",
    "        return x"
   ]
  },
  {
   "cell_type": "code",
   "execution_count": 35,
   "metadata": {},
   "outputs": [],
   "source": [
    "#CREATING NETWORK, DEFINING CRITERION AND OPTIMIZER\n",
    "model=Classifier()\n",
    "criterion = nn.NLLLoss()\n",
    "optimizer=optim.Adam(model.parameters(), lr=0.003)"
   ]
  },
  {
   "cell_type": "code",
   "execution_count": null,
   "metadata": {},
   "outputs": [
    {
     "name": "stdout",
     "output_type": "stream",
     "text": [
      "Training loss - 485.44216300547123\n",
      "Training loss - 367.4583951756358\n",
      "Training loss - 333.0293874144554\n",
      "Training loss - 309.6827982738614\n"
     ]
    }
   ],
   "source": [
    "#TRAINING THE NETWORK\n",
    "epochs=5\n",
    "for e in range(epochs):\n",
    "    running_loss=0\n",
    "    for images, labels in trainloader:\n",
    "        logps=model(images) #shortcut to write forward pass \n",
    "        loss=criterion(logps, labels)\n",
    "        \n",
    "        optimizer.zero_grad()\n",
    "        loss.backward()\n",
    "        optimizer.step()\n",
    "        \n",
    "        running_loss += loss.item()\n",
    "    else:\n",
    "        print(f\"Training loss - {running_loss}\")"
   ]
  },
  {
   "cell_type": "code",
   "execution_count": 8,
   "metadata": {},
   "outputs": [
    {
     "data": {
      "text/plain": [
       "<Figure size 432x288 with 0 Axes>"
      ]
     },
     "metadata": {},
     "output_type": "display_data"
    }
   ],
   "source": [
    "import matplotlib.pyplot as plt\n",
    "import numpy as np\n",
    "\n",
    "def view_classify(img, ps, version=\"MNIST\"): #only for MNIST nd FashionMNIST\n",
    "    ''' Function for viewing an image and it's predicted classes.\n",
    "    '''\n",
    "    ps = ps.data.numpy().squeeze()\n",
    "\n",
    "    fig, (ax1, ax2) = plt.subplots(figsize=(6,9), ncols=2)\n",
    "    ax1.imshow(img.resize_(1, 28, 28).numpy().squeeze())\n",
    "    ax1.axis('off')\n",
    "    ax2.barh(np.arange(10), ps)\n",
    "    ax2.set_aspect(0.1)\n",
    "    ax2.set_yticks(np.arange(10))\n",
    "    if version == \"MNIST\":\n",
    "        ax2.set_yticklabels(np.arange(10))\n",
    "    elif version == \"Fashion\":\n",
    "        ax2.set_yticklabels(['T-shirt/top',\n",
    "                            'Trouser',\n",
    "                            'Pullover',\n",
    "                            'Dress',\n",
    "                            'Coat',\n",
    "                            'Sandal',\n",
    "                            'Shirt',\n",
    "                            'Sneaker',\n",
    "                            'Bag',\n",
    "                            'Ankle Boot'], size='small');\n",
    "    ax2.set_title('Class Probability')\n",
    "    ax2.set_xlim(0, 1.1)\n",
    "\n",
    "plt.tight_layout()"
   ]
  },
  {
   "cell_type": "code",
   "execution_count": null,
   "metadata": {},
   "outputs": [],
   "source": [
    "#TESTING BEFORE TRAINING"
   ]
  },
  {
   "cell_type": "code",
   "execution_count": 13,
   "metadata": {},
   "outputs": [
    {
     "data": {
      "image/png": "[encoded data removed]",
      "text/plain": [
       "<Figure size 432x648 with 2 Axes>"
      ]
     },
     "metadata": {
      "image/png": {
       "height": 195,
       "width": 349
      },
      "needs_background": "light"
     },
     "output_type": "display_data"
    }
   ],
   "source": [
    "%matplotlib inline\n",
    "%config InlineBackend.figure_format = 'retina'\n",
    "\n",
    "dataiter=iter(testloader)\n",
    "images, labels = dataiter.next()\n",
    "img=images[21]\n",
    "\n",
    "ps=torch.exp(model(img)) #To calculate the class probabilities i.e. softmax for img\n",
    "\n",
    "view_classify(img, ps, version='Fashion') #to plot test image and its classification graph"
   ]
  },
  {
   "cell_type": "code",
   "execution_count": 14,
   "metadata": {},
   "outputs": [
    {
     "name": "stdout",
     "output_type": "stream",
     "text": [
      "torch.Size([64, 10])\n"
     ]
    }
   ],
   "source": [
    "model=Classifier()\n",
    "images, labels = next(iter(testloader))\n",
    "ps=torch.exp(model(images))\n",
    "print(ps.shape)"
   ]
  },
  {
   "cell_type": "code",
   "execution_count": 15,
   "metadata": {},
   "outputs": [
    {
     "name": "stdout",
     "output_type": "stream",
     "text": [
      "tensor([[2],\n",
      "        [2],\n",
      "        [2],\n",
      "        [2],\n",
      "        [2],\n",
      "        [2],\n",
      "        [2],\n",
      "        [2],\n",
      "        [2],\n",
      "        [2]])\n"
     ]
    }
   ],
   "source": [
    "top_p, top_class = ps.topk(1, dim=1)\n",
    "#Look at the most likely classes for the first 10 examples\n",
    "print(top_class[:10,:])"
   ]
  },
  {
   "cell_type": "code",
   "execution_count": 16,
   "metadata": {},
   "outputs": [],
   "source": [
    "equals = top_class == labels.view(*top_class.shape)"
   ]
  },
  {
   "cell_type": "code",
   "execution_count": 18,
   "metadata": {},
   "outputs": [
    {
     "name": "stdout",
     "output_type": "stream",
     "text": [
      "tensor([[0],\n",
      "        [0],\n",
      "        [0],\n",
      "        [0],\n",
      "        [0],\n",
      "        [0],\n",
      "        [0],\n",
      "        [0],\n",
      "        [0],\n",
      "        [0],\n",
      "        [0],\n",
      "        [0],\n",
      "        [0],\n",
      "        [0],\n",
      "        [1],\n",
      "        [0],\n",
      "        [0],\n",
      "        [0],\n",
      "        [0],\n",
      "        [0],\n",
      "        [0],\n",
      "        [1],\n",
      "        [0],\n",
      "        [1],\n",
      "        [0],\n",
      "        [0],\n",
      "        [0],\n",
      "        [0],\n",
      "        [0],\n",
      "        [0],\n",
      "        [0],\n",
      "        [0],\n",
      "        [1],\n",
      "        [0],\n",
      "        [0],\n",
      "        [0],\n",
      "        [0],\n",
      "        [0],\n",
      "        [0],\n",
      "        [0],\n",
      "        [0],\n",
      "        [0],\n",
      "        [1],\n",
      "        [0],\n",
      "        [0],\n",
      "        [0],\n",
      "        [0],\n",
      "        [0],\n",
      "        [1],\n",
      "        [0],\n",
      "        [0],\n",
      "        [0],\n",
      "        [1],\n",
      "        [0],\n",
      "        [0],\n",
      "        [0],\n",
      "        [0],\n",
      "        [0],\n",
      "        [0],\n",
      "        [0],\n",
      "        [0],\n",
      "        [0],\n",
      "        [0],\n",
      "        [0]], dtype=torch.uint8)\n"
     ]
    }
   ],
   "source": [
    "print(equals)"
   ]
  },
  {
   "cell_type": "code",
   "execution_count": 17,
   "metadata": {},
   "outputs": [
    {
     "name": "stdout",
     "output_type": "stream",
     "text": [
      "Accuracy: 10.9375%\n"
     ]
    }
   ],
   "source": [
    "accuracy = torch.mean(equals.type(torch.FloatTensor))\n",
    "print(f'Accuracy: {accuracy.item()*100}%')"
   ]
  },
  {
   "cell_type": "code",
   "execution_count": 19,
   "metadata": {},
   "outputs": [],
   "source": [
    "#TESTING AFTER TRAINING...i.e. VALIDATION PASS"
   ]
  },
  {
   "cell_type": "code",
   "execution_count": 31,
   "metadata": {},
   "outputs": [
    {
     "name": "stdout",
     "output_type": "stream",
     "text": [
      "Epoch: 1/30.. Training loss : 0.518.. Test loss : 0.469.. Test Accuracy : 0.006..\n",
      "Epoch: 2/30.. Training loss : 0.390.. Test loss : 0.421.. Test Accuracy : 0.006..\n",
      "Epoch: 3/30.. Training loss : 0.358.. Test loss : 0.378.. Test Accuracy : 0.005..\n",
      "Epoch: 4/30.. Training loss : 0.334.. Test loss : 0.374.. Test Accuracy : 0.005..\n",
      "Epoch: 5/30.. Training loss : 0.315.. Test loss : 0.383.. Test Accuracy : 0.006..\n",
      "Epoch: 6/30.. Training loss : 0.302.. Test loss : 0.374.. Test Accuracy : 0.006..\n",
      "Epoch: 7/30.. Training loss : 0.290.. Test loss : 0.373.. Test Accuracy : 0.005..\n",
      "Epoch: 8/30.. Training loss : 0.280.. Test loss : 0.394.. Test Accuracy : 0.006..\n",
      "Epoch: 9/30.. Training loss : 0.273.. Test loss : 0.368.. Test Accuracy : 0.004..\n",
      "Epoch: 10/30.. Training loss : 0.266.. Test loss : 0.361.. Test Accuracy : 0.005..\n",
      "Epoch: 11/30.. Training loss : 0.258.. Test loss : 0.359.. Test Accuracy : 0.006..\n",
      "Epoch: 12/30.. Training loss : 0.252.. Test loss : 0.357.. Test Accuracy : 0.006..\n",
      "Epoch: 13/30.. Training loss : 0.247.. Test loss : 0.367.. Test Accuracy : 0.006..\n",
      "Epoch: 14/30.. Training loss : 0.241.. Test loss : 0.366.. Test Accuracy : 0.004..\n",
      "Epoch: 15/30.. Training loss : 0.235.. Test loss : 0.356.. Test Accuracy : 0.005..\n",
      "Epoch: 16/30.. Training loss : 0.231.. Test loss : 0.405.. Test Accuracy : 0.004..\n",
      "Epoch: 17/30.. Training loss : 0.229.. Test loss : 0.371.. Test Accuracy : 0.006..\n",
      "Epoch: 18/30.. Training loss : 0.225.. Test loss : 0.374.. Test Accuracy : 0.006..\n",
      "Epoch: 19/30.. Training loss : 0.221.. Test loss : 0.368.. Test Accuracy : 0.006..\n",
      "Epoch: 20/30.. Training loss : 0.217.. Test loss : 0.385.. Test Accuracy : 0.005..\n",
      "Epoch: 21/30.. Training loss : 0.209.. Test loss : 0.399.. Test Accuracy : 0.004..\n",
      "Epoch: 22/30.. Training loss : 0.209.. Test loss : 0.407.. Test Accuracy : 0.006..\n",
      "Epoch: 23/30.. Training loss : 0.205.. Test loss : 0.425.. Test Accuracy : 0.006..\n",
      "Epoch: 24/30.. Training loss : 0.204.. Test loss : 0.381.. Test Accuracy : 0.006..\n",
      "Epoch: 25/30.. Training loss : 0.196.. Test loss : 0.426.. Test Accuracy : 0.006..\n",
      "Epoch: 26/30.. Training loss : 0.193.. Test loss : 0.421.. Test Accuracy : 0.006..\n",
      "Epoch: 27/30.. Training loss : 0.193.. Test loss : 0.449.. Test Accuracy : 0.006..\n",
      "Epoch: 28/30.. Training loss : 0.190.. Test loss : 0.412.. Test Accuracy : 0.006..\n",
      "Epoch: 29/30.. Training loss : 0.189.. Test loss : 0.452.. Test Accuracy : 0.006..\n",
      "Epoch: 30/30.. Training loss : 0.184.. Test loss : 0.458.. Test Accuracy : 0.006..\n"
     ]
    }
   ],
   "source": [
    "model=Classifier()\n",
    "criterion = nn.NLLLoss()\n",
    "optimizer=optim.Adam(model.parameters(), lr=0.003)\n",
    "\n",
    "epochs=30\n",
    "steps=0\n",
    "train_losses, test_losses = [], []\n",
    "for e in range(epochs):\n",
    "    running_loss=0\n",
    "    for images, labels in trainloader:        \n",
    "        optimizer.zero_grad()\n",
    "        \n",
    "        logps=model(images) #shortcut to write forward pass \n",
    "        loss=criterion(logps, labels)\n",
    "        loss.backward()\n",
    "        optimizer.step()\n",
    "        \n",
    "        running_loss += loss.item()\n",
    "    else:\n",
    "        test_loss=0\n",
    "        accuracy=0\n",
    "        \n",
    "        #Turn of gradients as they are not required in validation step\n",
    "        with torch.no_grad():\n",
    "            model.eval() #comment for demo without dropout\n",
    "            for images, labels in testloader:\n",
    "                log_ps = model(images)\n",
    "                test_loss += criterion(log_ps, labels)\n",
    "                \n",
    "                ps=torch.exp(log_ps)\n",
    "                top_p, top_class = ps.topk(1, dim=1)\n",
    "                equals = top_class == labels.view(*top_class.shape)\n",
    "                accuracy = torch.mean(equals.type(torch.FloatTensor))\n",
    "                \n",
    "        model.train()#comment for demo without dropout\n",
    "        \n",
    "        train_losses.append(running_loss/len(trainloader))\n",
    "        test_losses.append(test_loss/len(testloader))\n",
    "        \n",
    "        print(\"Epoch: {}/{}..\".format(e+1, epochs),\n",
    "              \"Training loss : {:.3f}..\".format(running_loss/len(trainloader)),\n",
    "              \"Test loss : {:.3f}..\".format(test_loss/len(testloader)),\n",
    "              \"Test Accuracy : {:.3f}..\".format(accuracy/len(testloader)))\n",
    "        \n",
    "                "
   ]
  },
  {
   "cell_type": "code",
   "execution_count": 32,
   "metadata": {},
   "outputs": [],
   "source": [
    "%matplotlib inline\n",
    "%config InlineBackend.figure_format='retina'\n",
    "\n",
    "import matplotlib.pyplot as plt"
   ]
  },
  {
   "cell_type": "code",
   "execution_count": 36,
   "metadata": {},
   "outputs": [
    {
     "data": {
      "text/plain": [
       "<matplotlib.legend.Legend at 0x1501c828>"
      ]
     },
     "execution_count": 36,
     "metadata": {},
     "output_type": "execute_result"
    },
    {
     "data": {
      "image/png": "[encoded data removed]",
      "text/plain": [
       "<Figure size 432x288 with 1 Axes>"
      ]
     },
     "metadata": {
      "image/png": {
       "height": 248,
       "width": 380
      },
      "needs_background": "light"
     },
     "output_type": "display_data"
    }
   ],
   "source": [
    "plt.plot(train_losses, label = 'TRAINING LOSS')\n",
    "plt.plot(test_losses, label = 'TEST LOSS')\n",
    "plt.legend(frameon=False)"
   ]
  },
  {
   "cell_type": "code",
   "execution_count": 26,
   "metadata": {},
   "outputs": [],
   "source": [
    "#THE ABV O/P SHOWS OVERFITTING WHERE OUR MODEL GETS BETTER ON TRAINING DATA BUT GETS WORSE ON VALIDATION/TEST DATA. THIS IS BCZ \n",
    "#WHEN IT TRAINS THE MODEL,IT FAILS TO GENERALIZE THE DATA OUTSIDE OF THE TRAINING SET."
   ]
  },
  {
   "cell_type": "code",
   "execution_count": 27,
   "metadata": {},
   "outputs": [],
   "source": [
    "#SOLUTION IS REGULARIZATION...SPECIFICALLY DROPOUT (code is added to above classes...comment wherever necessary for demo without\n",
    "#dropout)"
   ]
  },
  {
   "cell_type": "code",
   "execution_count": 28,
   "metadata": {},
   "outputs": [],
   "source": [
    "#WE WANT DROPOUT ONLY FOR TRAINING(to prevent overfitting) CUZ WE WANT THE ENTIRE NETWORK TO BE USED FOR INFERENCE/\n",
    "#VALIDATION/TESTING. "
   ]
  },
  {
   "cell_type": "code",
   "execution_count": 29,
   "metadata": {},
   "outputs": [],
   "source": [
    "#model.eval() will turn off dropout...model.train() will turn on dropout"
   ]
  },
  {
   "cell_type": "code",
   "execution_count": null,
   "metadata": {},
   "outputs": [],
   "source": [
    "#BELOW CODE IS FOR SAVING A MODEL AND THEN LOADING IT IN FUTURE"
   ]
  },
  {
   "cell_type": "code",
   "execution_count": 37,
   "metadata": {},
   "outputs": [
    {
     "name": "stdout",
     "output_type": "stream",
     "text": [
      "Classifier(\n",
      "  (fc1): Linear(in_features=784, out_features=256, bias=True)\n",
      "  (fc2): Linear(in_features=256, out_features=128, bias=True)\n",
      "  (fc3): Linear(in_features=128, out_features=64, bias=True)\n",
      "  (fc4): Linear(in_features=64, out_features=10, bias=True)\n",
      "  (dropout): Dropout(p=0.2)\n",
      ")\n"
     ]
    }
   ],
   "source": [
    "print(model) #to print the model(demo)"
   ]
  },
  {
   "cell_type": "code",
   "execution_count": 38,
   "metadata": {},
   "outputs": [
    {
     "name": "stdout",
     "output_type": "stream",
     "text": [
      "odict_keys(['fc1.weight', 'fc1.bias', 'fc2.weight', 'fc2.bias', 'fc3.weight', 'fc3.bias', 'fc4.weight', 'fc4.bias'])\n"
     ]
    }
   ],
   "source": [
    "print(model.state_dict().keys()) #to print keys of dict containing state of the model(demo)"
   ]
  },
  {
   "cell_type": "code",
   "execution_count": 45,
   "metadata": {},
   "outputs": [],
   "source": [
    "#TO SAVE THE MODEL\n",
    "\"\"\"torch.save(model.state_dict(), 'checkpoint.pth')\"\"\" #checkpoint.pth is a file. pth is extension for pytorch checkpoint files\n",
    "#for the abv model, we need to load a model with same size as the saved model..or else it will result in error if we gv\n",
    "#different sizec..lyk instead of 256 if we 512, then it becomes error.tht is why we need to save a few more details"
   ]
  },
  {
   "cell_type": "code",
   "execution_count": 49,
   "metadata": {},
   "outputs": [],
   "source": [
    "checkpoint = {'input_size' : 784,\n",
    "             'output_size' : 10,\n",
    "             #'hidden_layers' : [each.out_features for each in model.hidden_layers], #DOnt know y it doesnt work..\n",
    "             'state_dict' : model.state_dict()}\n",
    "torch.save(checkpoint, 'checkpoint.pth')"
   ]
  },
  {
   "cell_type": "code",
   "execution_count": 50,
   "metadata": {},
   "outputs": [
    {
     "data": {
      "text/plain": [
       "\"state_dict = torch.load('checkpoint.pth')\\nprint(state_dict.keys())\""
      ]
     },
     "execution_count": 50,
     "metadata": {},
     "output_type": "execute_result"
    }
   ],
   "source": [
    "#TO LOAD THE MODEL\n",
    "\"\"\"state_dict = torch.load('checkpoint.pth')\n",
    "print(state_dict.keys())\"\"\" #This is for torch.save(___,'')\n",
    "#TO LOAD STATE_DICT TO NETWORK\n",
    "#model.load_state_dict(state_dict)"
   ]
  },
  {
   "cell_type": "code",
   "execution_count": 56,
   "metadata": {},
   "outputs": [],
   "source": [
    "def load_checkpoint(filepath): #will not work until hidden_layers is rectified\n",
    "    checkpoint = torch.load(filepath)\n",
    "    model=Classifier(checkpoint['input_size'],\n",
    "                    checkpoint['output_size'],\n",
    "                    checkpoint['hidden_layers']                    )\n",
    "    model.load_state_dict(checkpoint['state_dict'])\n",
    "    return model"
   ]
  },
  {
   "cell_type": "code",
   "execution_count": 57,
   "metadata": {},
   "outputs": [
    {
     "ename": "TypeError",
     "evalue": "__init__() takes 1 positional argument but 3 were given",
     "output_type": "error",
     "traceback": [
      "\u001b[1;31m---------------------------------------------------------------------------\u001b[0m",
      "\u001b[1;31mTypeError\u001b[0m                                 Traceback (most recent call last)",
      "\u001b[1;32m<ipython-input-57-c295433be22e>\u001b[0m in \u001b[0;36m<module>\u001b[1;34m\u001b[0m\n\u001b[1;32m----> 1\u001b[1;33m \u001b[0mmodel\u001b[0m\u001b[1;33m=\u001b[0m\u001b[0mload_checkpoint\u001b[0m\u001b[1;33m(\u001b[0m\u001b[1;34m'checkpoint.pth'\u001b[0m\u001b[1;33m)\u001b[0m\u001b[1;33m\u001b[0m\u001b[1;33m\u001b[0m\u001b[0m\n\u001b[0m\u001b[0;32m      2\u001b[0m \u001b[0mprint\u001b[0m\u001b[1;33m(\u001b[0m\u001b[0mmodel\u001b[0m\u001b[1;33m)\u001b[0m\u001b[1;33m\u001b[0m\u001b[1;33m\u001b[0m\u001b[0m\n",
      "\u001b[1;32m<ipython-input-56-e9e247add3ad>\u001b[0m in \u001b[0;36mload_checkpoint\u001b[1;34m(filepath)\u001b[0m\n\u001b[0;32m      2\u001b[0m     \u001b[0mcheckpoint\u001b[0m \u001b[1;33m=\u001b[0m \u001b[0mtorch\u001b[0m\u001b[1;33m.\u001b[0m\u001b[0mload\u001b[0m\u001b[1;33m(\u001b[0m\u001b[0mfilepath\u001b[0m\u001b[1;33m)\u001b[0m\u001b[1;33m\u001b[0m\u001b[1;33m\u001b[0m\u001b[0m\n\u001b[0;32m      3\u001b[0m     model=Classifier(checkpoint['input_size'],\n\u001b[1;32m----> 4\u001b[1;33m                     \u001b[0mcheckpoint\u001b[0m\u001b[1;33m[\u001b[0m\u001b[1;34m'output_size'\u001b[0m\u001b[1;33m]\u001b[0m\u001b[1;33m,\u001b[0m\u001b[1;33m\u001b[0m\u001b[1;33m\u001b[0m\u001b[0m\n\u001b[0m\u001b[0;32m      5\u001b[0m                     \u001b[1;31m#checkpoint['hidden_layers']\u001b[0m\u001b[1;33m\u001b[0m\u001b[1;33m\u001b[0m\u001b[1;33m\u001b[0m\u001b[0m\n\u001b[0;32m      6\u001b[0m                     )\n",
      "\u001b[1;31mTypeError\u001b[0m: __init__() takes 1 positional argument but 3 were given"
     ]
    }
   ],
   "source": [
    "model=load_checkpoint('checkpoint.pth')\n",
    "print(model)"
   ]
  },
  {
   "cell_type": "code",
   "execution_count": null,
   "metadata": {},
   "outputs": [],
   "source": []
  }
 ],
 "metadata": {
  "kernelspec": {
   "display_name": "Python 3",
   "language": "python",
   "name": "python3"
  },
  "language_info": {
   "codemirror_mode": {
    "name": "ipython",
    "version": 3
   },
   "file_extension": ".py",
   "mimetype": "text/x-python",
   "name": "python",
   "nbconvert_exporter": "python",
   "pygments_lexer": "ipython3",
   "version": "3.7.1"
  }
 },
 "nbformat": 4,
 "nbformat_minor": 2
}
