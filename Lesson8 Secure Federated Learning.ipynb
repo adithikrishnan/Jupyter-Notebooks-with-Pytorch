{
 "cells": [
  {
   "cell_type": "code",
   "execution_count": null,
   "metadata": {},
   "outputs": [],
   "source": [
    "import syft as sy\n",
    "import torch as th\n",
    "hook = sy.TorchHook(th)\n",
    "from torch import nn. optim"
   ]
  },
  {
   "cell_type": "code",
   "execution_count": null,
   "metadata": {},
   "outputs": [],
   "source": [
    "#create workers\n",
    "\n",
    "bob = sy.VirtualWorker(hook, id=\"bob\") #data owner\n",
    "alice = sy.VirtualWorker(hook, id=\"alice\") #data owner\n",
    "secure_worker = sy.VirtualWorker(hook, id=\"secure_worker\") #trusted third party/ trusted aggregator"
   ]
  },
  {
   "cell_type": "code",
   "execution_count": null,
   "metadata": {},
   "outputs": [],
   "source": [
    "#inform workers tht other workers exist\n",
    "bob.add_workers([alice, secure_worker])\n",
    "alice.add_workers([bob, secure_worker])\n",
    "secure_worker.add_workers([bob, alice])"
   ]
  },
  {
   "cell_type": "code",
   "execution_count": null,
   "metadata": {},
   "outputs": [],
   "source": [
    "# a toy dataset\n",
    "data = th.tensor([[0,0], [0,1], [1,0], [1,1.]], requires_grad=True)\n",
    "target = th.tensor([[0], [0], [1], [1.]], requires_grad=True)"
   ]
  },
  {
   "cell_type": "code",
   "execution_count": null,
   "metadata": {},
   "outputs": [],
   "source": [
    "#get pointers to training data on each worker by sending some training data to bob and alice\n",
    "bobs_data = data[0:2].send(bob)\n",
    "bobs_target = target[0:2].send(bob)\n",
    "\n",
    "alices_data = data[2:].send(alice)\n",
    "alices_target = data[2:].send(alice)"
   ]
  },
  {
   "cell_type": "code",
   "execution_count": null,
   "metadata": {},
   "outputs": [],
   "source": [
    "#Initialize a toy model\n",
    "model = nn.Linear(2,1)"
   ]
  },
  {
   "cell_type": "code",
   "execution_count": null,
   "metadata": {},
   "outputs": [],
   "source": [
    "for round_iter in range[0,10]:\n",
    "#since there are 2 model copies, each will have its own optimizers\n",
    "    bobs_opt = optim.SGD(params=bobs_model.parameters(), lr=0.1)\n",
    "    alices_opt = optim.SGD(params=alices_model.parameters(), lr=0.1)\n",
    "\n",
    "    #train the model on bob's device and alice's\n",
    "\n",
    "    for i in range(10):\n",
    "    bobs_opt.zero_grad()\n",
    "        bobs_pred = bobs_model(bobs_data)\n",
    "        bobs_loss = ((bobs_pred-bobs_target)**2).sum()\n",
    "        bobs_loss.backward()\n",
    "        bobs_opt.step()\n",
    "        bobs_loss = bobs_loss.get().data\n",
    "        bobs_loss #tensor(0.0054)\n",
    "\n",
    "        alices_opt.zero_grad()\n",
    "        alices_pred = alices_model(alices_data)\n",
    "        alices_loss = ((alices_pred-alices_target)**2).sum()\n",
    "        alices_loss.backward()\n",
    "        alices_opt.step()\n",
    "        alices_loss = alices_loss.get().data\n",
    "        alices_loss #tensor(0.0015) not exact value!\n",
    "\n",
    "    alices_model.move(secure_worker)\n",
    "    bobs_model.move(secure_worker)\n",
    "\n",
    "    model.weight.data.set_(((alices_model.weights.data + bobs_model.weights.data) / 2).get())\n",
    "    model.bias.data.set_(((alices_model.bias.data+ bobs_model.bias.data) / 2).get())\n",
    "\n",
    "    print(\"Bob:\" + str(bobs_loss) + \" Alice: \", str(alices_loss))\n",
    "    \n"
   ]
  },
  {
   "cell_type": "code",
   "execution_count": null,
   "metadata": {},
   "outputs": [],
   "source": [
    "#ADDITIVE SECRET SHARING"
   ]
  },
  {
   "cell_type": "code",
   "execution_count": null,
   "metadata": {},
   "outputs": [],
   "source": [
    "import random"
   ]
  },
  {
   "cell_type": "code",
   "execution_count": null,
   "metadata": {},
   "outputs": [],
   "source": [
    "Q = 23704657892341988765345\n",
    "x = 5"
   ]
  },
  {
   "cell_type": "code",
   "execution_count": null,
   "metadata": {},
   "outputs": [],
   "source": [
    "def encrypt(x, n_shares=3)\n",
    "    shares = list()\n",
    "    for i in range(n_shares-1):\n",
    "        shares.append(random.randint(0,Q))\n",
    "\n",
    "    final_share = Q - (sum(shares)%Q) + x\n",
    "    shares.append(final_share)\n",
    "\n",
    "    #DEMO sum(shares) % Q #output is 5 which is x\n",
    "    \n",
    "    return tuple(shares)\n",
    "     "
   ]
  },
  {
   "cell_type": "code",
   "execution_count": null,
   "metadata": {},
   "outputs": [],
   "source": [
    "def decrypt(shares):\n",
    "    return sum(shares) % Q"
   ]
  },
  {
   "cell_type": "code",
   "execution_count": null,
   "metadata": {},
   "outputs": [],
   "source": [
    "def add(a,b):\n",
    "    c = list()\n",
    "    assert(len(a)==len(b))\n",
    "    for i in range(len(a)):\n",
    "        c.append((a[i]+b[i]) % Q)\n",
    "    return tuple(c)"
   ]
  },
  {
   "cell_type": "code",
   "execution_count": null,
   "metadata": {},
   "outputs": [],
   "source": [
    "#DEMO\n",
    "decrypt(add(encrypt(5), encrypt(10))) #output is 15"
   ]
  },
  {
   "cell_type": "code",
   "execution_count": null,
   "metadata": {},
   "outputs": [],
   "source": [
    "#MORE EXPLICITLY EXPLAINED\n",
    "\n",
    "x = encrypt(5)\n",
    "x #output is tuple of 3 huge numbers i.e shares ||| Q\n",
    "\n",
    "y=encrypt(10)\n",
    "y #output is tuple of 3 huge numbers i.e shares ||| Q\n",
    "\n",
    "z = add(x,y)\n",
    "z #output is tuple of 3 huge numbers i.e sum of shares ||| Q\n",
    "\n",
    "decrypt(z) #output is 15"
   ]
  },
  {
   "cell_type": "code",
   "execution_count": null,
   "metadata": {},
   "outputs": [],
   "source": [
    "#FIXED PRECISION ENCODING\n",
    "\n",
    "#additive secret sharing is applicable only to integers. But gradients in federated learning are mostly decimals. Hence we use\n",
    "#this technique!"
   ]
  },
  {
   "cell_type": "code",
   "execution_count": null,
   "metadata": {},
   "outputs": [],
   "source": [
    "BASE = 10 #we can use 2 for binary...here we r using base 1-\n",
    "PRECISION = 4\n",
    "Q = 23704657892341988765345"
   ]
  },
  {
   "cell_type": "code",
   "execution_count": null,
   "metadata": {},
   "outputs": [],
   "source": [
    "def encode(x_dec): #convert dec to int\n",
    "    return int(x_dec * (BASE ** PRECISION)) % Q\n",
    "\n",
    "#DEMO encode(0.5) #output os 5000\n",
    "#DEMO encode(-0.5) #output is a large number lyk Q"
   ]
  },
  {
   "cell_type": "code",
   "execution_count": null,
   "metadata": {},
   "outputs": [],
   "source": [
    "def decode(x_fixedprecision):\n",
    "    return (x_fixedprecision if x_fixedprecision <= Q/2 else x_fixedprecision - Q ) / BASE ** PRECISION\n",
    "\n",
    "#DEMO decode(5000) #output is 0.5\n",
    "#DEMO decode(num_lyk_Q) #output is -0.5"
   ]
  },
  {
   "cell_type": "code",
   "execution_count": null,
   "metadata": {},
   "outputs": [],
   "source": [
    "#SECRET SHARING + FIXED PRECISION WITH PYSYFT"
   ]
  },
  {
   "cell_type": "code",
   "execution_count": null,
   "metadata": {},
   "outputs": [],
   "source": [
    "bob = bob.clear_objects()\n",
    "alice = alice.clear_objects()\n",
    "secure_worker = secure_worker.clear_objects()"
   ]
  },
  {
   "cell_type": "code",
   "execution_count": null,
   "metadata": {},
   "outputs": [],
   "source": [
    "x = th.tensor([1,2,3,4,5])"
   ]
  },
  {
   "cell_type": "code",
   "execution_count": null,
   "metadata": {},
   "outputs": [],
   "source": [
    "x = x.share(bob, alice, secure_worker) #divides x into multiple diffnt additive secret shares. Any num of workers can b gvn.\n",
    "\n",
    "#it sends the shares to the workers in such a way that we have pointers to the data"
   ]
  },
  {
   "cell_type": "code",
   "execution_count": null,
   "metadata": {},
   "outputs": [],
   "source": [
    "bob._objects #output is a set of 5 large random numbers\n",
    "\n",
    "#same for alice and secure_worker as well.\n",
    "\n",
    "y = x + x\n",
    "\n",
    "bob._objects #output is 2 sets of 5 shares each."
   ]
  },
  {
   "cell_type": "code",
   "execution_count": null,
   "metadata": {},
   "outputs": [],
   "source": [
    "y.get() #will decrypt the tensor and return the original sum value of x+x...i.e. [2,4,6,8,10]"
   ]
  },
  {
   "cell_type": "code",
   "execution_count": null,
   "metadata": {},
   "outputs": [],
   "source": [
    "#To suit for decimal values\n",
    "x = th.tensor([0.1, 0.2, 0.3, 0.4, 0.5]).fix_prec.(share(bob, alice, secure_worker)\n",
    "                                                   \n",
    "#below code is commented cuz we have included that in definition of x above.                                                   \n",
    "\"\"\"\n",
    "x = x.fix_prec\n",
    "x #output is [100,200,300,400,500]\n",
    "\n",
    "x = x.float_prec\n",
    "\"\"\""
   ]
  }
 ],
 "metadata": {
  "kernelspec": {
   "display_name": "Python 3",
   "language": "python",
   "name": "python3"
  },
  "language_info": {
   "codemirror_mode": {
    "name": "ipython",
    "version": 3
   },
   "file_extension": ".py",
   "mimetype": "text/x-python",
   "name": "python",
   "nbconvert_exporter": "python",
   "pygments_lexer": "ipython3",
   "version": "3.7.1"
  }
 },
 "nbformat": 4,
 "nbformat_minor": 2
}
