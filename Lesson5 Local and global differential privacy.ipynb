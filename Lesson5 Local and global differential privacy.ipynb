{
 "cells": [
  {
   "cell_type": "code",
   "execution_count": 3,
   "metadata": {},
   "outputs": [],
   "source": [
    "import torch\n",
    "\n",
    "#FUNCTION TO CREATE PARALLEL DB WITH INDEX REMOVED TO BE SPECIFIED\n",
    "def get_parallel_db(db, remove_index):\n",
    "    return torch.cat((db[0:remove_index], db[remove_index+1:]))\n",
    "\n",
    "#FUNCTION TO CREATE PARALLEL DBS GIVEN A DB AS PARAMETER\n",
    "def get_parallel_dbs(db):\n",
    "    parallel_dbs = list()\n",
    "    \n",
    "    for i in range(len(db)):\n",
    "        pdb = get_parallel_db(db, i)\n",
    "        parallel_dbs.append(pdb)\n",
    "    \n",
    "    return parallel_dbs\n",
    "\n",
    "#FUNCTION TO CREATE DB AND ITS PARALLELS\n",
    "def create_db_and_parallels(num_entries):\n",
    "    db = torch.rand(num_entries) > 0.5\n",
    "    pdbs = get_parallel_dbs(db)\n",
    "    \n",
    "    return db, pdbs\n",
    "\n",
    "#FUNCTION TO DETERMINE SENSITIVITY OF A PRIVACY FUNCTION\n",
    "def sensitivity(query, n_entries):\n",
    "    db, pdbs = create_db_and_parallels(n_entries)\n",
    "    full_db_result = query(db)\n",
    "    sensitivity = 0\n",
    "\n",
    "    for pdb in pdbs:\n",
    "        pdb_result = query(pdb)\n",
    "        db_distance = torch.abs(pdb_result - full_db_result)\n",
    "    \n",
    "        if(db_distance > sensitivity):\n",
    "            sensitivity = db_distance\n",
    "    return sensitivity\n"
   ]
  },
  {
   "cell_type": "code",
   "execution_count": 35,
   "metadata": {},
   "outputs": [],
   "source": [
    "#QUERY FUNCTION\n",
    "def query(db):\n",
    "    \n",
    "    true_result = torch.mean(db.float())\n",
    "    \n",
    "    first_coin_flip = (torch.rand(len(db)) > 0.5).float()\n",
    "    #DEMO LINEprint(first_coin_flip)\n",
    "    second_coin_flip = (torch.rand(len(db)) > 0.5).float()\n",
    "    #DEMO LINE print(second_coin_flip)\n",
    "\n",
    "#BELOW STEP IS DONE TO TO MODIFY THE DB. WHENEVER WE HAVE 1 IN FIRST_COIN_FLIP, ANSWER IS HONEST AND HENCE WE TAKE SAME ELEMENT\n",
    "#AS IN THE ORIGINAL DB. BUT WHEN FIRST_COIN_FLIP IS 0, WE TAKE 1-FIRST_COIN_FLIP * SECOND_COIN_FLIP TO SEE WHICH IS 1 AND WHICH\n",
    "#IS 0 AND ASSIGN YES AND NO. HENCE THE BELOW OPERATIONS ON THE DB.\n",
    "\n",
    "#IF WE TAKE (1-FIRST_COIN_FLIP) * SECOND_COIN_FLIP, WE WILL GET ALL THE VALUES (WITH LABEL 1) WHERE THE INPUT IS RANDOMIZED.\n",
    "\n",
    "    augmented_db = db.float() * first_coin_flip + (1-first_coin_flip) * second_coin_flip\n",
    "    #DEMO LINE print(augmented_db)\n",
    "    \n",
    "    db_result = torch.mean(augmented_db.float()) * 2 -0.5 #-2*0.5-to deskew the output. Refer vid 4 6:30 min later fr expln.\n",
    "    \n",
    "    return db_result, true_result\n",
    "    "
   ]
  },
  {
   "cell_type": "code",
   "execution_count": 41,
   "metadata": {},
   "outputs": [
    {
     "name": "stdout",
     "output_type": "stream",
     "text": [
      "With Noise :  tensor(0.5000)\n",
      "Without Noise :  tensor(0.3000)\n"
     ]
    }
   ],
   "source": [
    "db, pdbs = create_db_and_parallels(10)\n",
    "#DEMO LINE print(db) #db is Actual values from ppl\n",
    "\n",
    "private_result, true_result = query(db)\n",
    "\n",
    "print(\"With Noise : \", str(private_result))\n",
    "print(\"Without Noise : \", str(true_result))"
   ]
  },
  {
   "cell_type": "code",
   "execution_count": 43,
   "metadata": {},
   "outputs": [
    {
     "name": "stdout",
     "output_type": "stream",
     "text": [
      "With Noise :  tensor(0.5600)\n",
      "Without Noise :  tensor(0.5000)\n"
     ]
    }
   ],
   "source": [
    "db, pdbs = create_db_and_parallels(100)\n",
    "#DEMO LINE print(db) #db is Actual values from ppl\n",
    "\n",
    "private_result, true_result = query(db)\n",
    "\n",
    "print(\"With Noise : \", str(private_result))\n",
    "print(\"Without Noise : \", str(true_result))"
   ]
  },
  {
   "cell_type": "code",
   "execution_count": 44,
   "metadata": {},
   "outputs": [
    {
     "name": "stdout",
     "output_type": "stream",
     "text": [
      "With Noise :  tensor(0.4960)\n",
      "Without Noise :  tensor(0.4960)\n"
     ]
    }
   ],
   "source": [
    "db, pdbs = create_db_and_parallels(1000)\n",
    "#DEMO LINE print(db) #db is Actual values from ppl\n",
    "\n",
    "private_result, true_result = query(db)\n",
    "\n",
    "print(\"With Noise : \", str(private_result))\n",
    "print(\"Without Noise : \", str(true_result))"
   ]
  },
  {
   "cell_type": "code",
   "execution_count": 45,
   "metadata": {},
   "outputs": [
    {
     "name": "stdout",
     "output_type": "stream",
     "text": [
      "With Noise :  tensor(0.4858)\n",
      "Without Noise :  tensor(0.5010)\n"
     ]
    }
   ],
   "source": [
    "db, pdbs = create_db_and_parallels(10000)\n",
    "#DEMO LINE print(db) #db is Actual values from ppl\n",
    "\n",
    "private_result, true_result = query(db)\n",
    "\n",
    "print(\"With Noise : \", str(private_result))\n",
    "print(\"Without Noise : \", str(true_result))"
   ]
  },
  {
   "cell_type": "code",
   "execution_count": 46,
   "metadata": {},
   "outputs": [],
   "source": [
    "#QUERY FUNCTION WITH BIAS FOR FIRST COIN FLIP USING NOISE\n",
    "def query(db, noise):\n",
    "    \n",
    "    true_result = torch.mean(db.float())\n",
    "    \n",
    "    first_coin_flip = (torch.rand(len(db)) > noise).float()\n",
    "    #DEMO LINEprint(first_coin_flip)\n",
    "    second_coin_flip = (torch.rand(len(db)) > 0.5).float()\n",
    "    #DEMO LINE print(second_coin_flip)\n",
    "\n",
    "    augmented_db = db.float() * first_coin_flip + (1-first_coin_flip) * second_coin_flip\n",
    "    #DEMO LINE print(augmented_db)\n",
    "    \n",
    "    skewed_result = augmented_db.float().mean()\n",
    "    private_result = ((skewed_result/noise) - 0.50) * noise/(1-noise)\n",
    "    \n",
    "    return private_result, true_result\n",
    "    "
   ]
  },
  {
   "cell_type": "code",
   "execution_count": 47,
   "metadata": {},
   "outputs": [
    {
     "name": "stdout",
     "output_type": "stream",
     "text": [
      "With Noise :  tensor(0.5111)\n",
      "Without Noise :  tensor(0.5300)\n"
     ]
    }
   ],
   "source": [
    "db, pdbs = create_db_and_parallels(100)\n",
    "#DEMO LINE print(db) #db is Actual values from ppl\n",
    "\n",
    "private_result, true_result = query(db, 0.1)\n",
    "\n",
    "print(\"With Noise : \", str(private_result))\n",
    "print(\"Without Noise : \", str(true_result))"
   ]
  },
  {
   "cell_type": "code",
   "execution_count": 48,
   "metadata": {},
   "outputs": [
    {
     "name": "stdout",
     "output_type": "stream",
     "text": [
      "With Noise :  tensor(0.4571)\n",
      "Without Noise :  tensor(0.5500)\n"
     ]
    }
   ],
   "source": [
    "db, pdbs = create_db_and_parallels(100)\n",
    "#DEMO LINE print(db) #db is Actual values from ppl\n",
    "\n",
    "private_result, true_result = query(db, 0.3)\n",
    "\n",
    "print(\"With Noise : \", str(private_result))\n",
    "print(\"Without Noise : \", str(true_result))"
   ]
  },
  {
   "cell_type": "code",
   "execution_count": 49,
   "metadata": {},
   "outputs": [
    {
     "name": "stdout",
     "output_type": "stream",
     "text": [
      "With Noise :  tensor(0.4600)\n",
      "Without Noise :  tensor(0.5800)\n"
     ]
    }
   ],
   "source": [
    "db, pdbs = create_db_and_parallels(100)\n",
    "#DEMO LINE print(db) #db is Actual values from ppl\n",
    "\n",
    "private_result, true_result = query(db, 0.5)\n",
    "\n",
    "print(\"With Noise : \", str(private_result))\n",
    "print(\"Without Noise : \", str(true_result))"
   ]
  },
  {
   "cell_type": "code",
   "execution_count": 50,
   "metadata": {},
   "outputs": [
    {
     "name": "stdout",
     "output_type": "stream",
     "text": [
      "With Noise :  tensor(0.7000)\n",
      "Without Noise :  tensor(0.4400)\n"
     ]
    }
   ],
   "source": [
    "db, pdbs = create_db_and_parallels(100)\n",
    "#DEMO LINE print(db) #db is Actual values from ppl\n",
    "\n",
    "private_result, true_result = query(db, 0.7)\n",
    "\n",
    "print(\"With Noise : \", str(private_result))\n",
    "print(\"Without Noise : \", str(true_result))"
   ]
  },
  {
   "cell_type": "code",
   "execution_count": 51,
   "metadata": {},
   "outputs": [
    {
     "name": "stdout",
     "output_type": "stream",
     "text": [
      "With Noise :  tensor(0.1000)\n",
      "Without Noise :  tensor(0.5400)\n"
     ]
    }
   ],
   "source": [
    "db, pdbs = create_db_and_parallels(100)\n",
    "#DEMO LINE print(db) #db is Actual values from ppl\n",
    "\n",
    "private_result, true_result = query(db, 0.9)\n",
    "\n",
    "print(\"With Noise : \", str(private_result))\n",
    "print(\"Without Noise : \", str(true_result))"
   ]
  },
  {
   "cell_type": "code",
   "execution_count": 54,
   "metadata": {},
   "outputs": [
    {
     "name": "stdout",
     "output_type": "stream",
     "text": [
      "With Noise :  tensor(0.4795)\n",
      "Without Noise :  tensor(0.5017)\n"
     ]
    }
   ],
   "source": [
    "db, pdbs = create_db_and_parallels(10000)\n",
    "#DEMO LINE print(db) #db is Actual values from ppl\n",
    "\n",
    "private_result, true_result = query(db, 0.8)\n",
    "\n",
    "print(\"With Noise : \", str(private_result))\n",
    "print(\"Without Noise : \", str(true_result))"
   ]
  },
  {
   "cell_type": "code",
   "execution_count": null,
   "metadata": {},
   "outputs": [],
   "source": [
    "### GLOBAL DIFFERENTIAL PRIVACY ###"
   ]
  },
  {
   "cell_type": "code",
   "execution_count": 1,
   "metadata": {},
   "outputs": [],
   "source": [
    "epsilon = 0.5"
   ]
  },
  {
   "cell_type": "code",
   "execution_count": 2,
   "metadata": {},
   "outputs": [],
   "source": [
    "import numpy as np"
   ]
  },
  {
   "cell_type": "code",
   "execution_count": 7,
   "metadata": {},
   "outputs": [
    {
     "data": {
      "text/plain": [
       "tensor(54, dtype=torch.uint8)"
      ]
     },
     "execution_count": 7,
     "metadata": {},
     "output_type": "execute_result"
    }
   ],
   "source": [
    "db, pdbs = create_db_and_parallels(100) #print db fr demo\n",
    "#DEMO sum(db) #sensitivity of sum() is 1 for this db. If we gv sum(db*2) then its 2...."
   ]
  },
  {
   "cell_type": "code",
   "execution_count": 8,
   "metadata": {},
   "outputs": [],
   "source": [
    "def sum_query(db):\n",
    "    return db.sum()"
   ]
  },
  {
   "cell_type": "code",
   "execution_count": 11,
   "metadata": {},
   "outputs": [],
   "source": [
    "def laplacian_mechanism(db, query, sensitivity): #laplacian noise added to output of sum query\n",
    "    beta = sensitivity/epsilon\n",
    "    noise = torch.tensor(np.random.laplace(0, beta, 1))\n",
    "    \n",
    "    return query(db) + noise"
   ]
  },
  {
   "cell_type": "code",
   "execution_count": 28,
   "metadata": {},
   "outputs": [
    {
     "data": {
      "text/plain": [
       "tensor([2732500.5971], dtype=torch.float64)"
      ]
     },
     "execution_count": 28,
     "metadata": {},
     "output_type": "execute_result"
    }
   ],
   "source": [
    "laplacian_mechanism(db, sum_query, 1) #sensitivity of sum() is 1 for this db. keep running nd check for varied o/p due to noise"
   ]
  },
  {
   "cell_type": "code",
   "execution_count": 18,
   "metadata": {},
   "outputs": [],
   "source": [
    "def mean_query(db): #sensitivity of this mean query is 1/100 for this db...100 values...1 or 0....max change is 1/100 for mean\n",
    "    return torch.mean(db.float())"
   ]
  },
  {
   "cell_type": "code",
   "execution_count": 19,
   "metadata": {},
   "outputs": [
    {
     "data": {
      "text/plain": [
       "tensor(0.5400)"
      ]
     },
     "execution_count": 19,
     "metadata": {},
     "output_type": "execute_result"
    }
   ],
   "source": [
    "mean_query(db) #DEMO to check the o/p of laplacian menchanism"
   ]
  },
  {
   "cell_type": "code",
   "execution_count": 30,
   "metadata": {},
   "outputs": [
    {
     "data": {
      "text/plain": [
       "tensor([65038.7439], dtype=torch.float64)"
      ]
     },
     "execution_count": 30,
     "metadata": {},
     "output_type": "execute_result"
    }
   ],
   "source": [
    "laplacian_mechanism(db, mean_query, 1/100) #run multiple times"
   ]
  },
  {
   "cell_type": "code",
   "execution_count": 26,
   "metadata": {},
   "outputs": [],
   "source": [
    "epsilon = 0.0000001 #run laplacian mechanisms. noise value increases lyk hell! this is because we r allowing less leakage of \n",
    "#data by adding more noise. #To add more noise we keep epsilon value very less to show tht this is the max amt of data that \n",
    "#can be leaked."
   ]
  },
  {
   "cell_type": "code",
   "execution_count": null,
   "metadata": {},
   "outputs": [],
   "source": []
  }
 ],
 "metadata": {
  "kernelspec": {
   "display_name": "Python 3",
   "language": "python",
   "name": "python3"
  },
  "language_info": {
   "codemirror_mode": {
    "name": "ipython",
    "version": 3
   },
   "file_extension": ".py",
   "mimetype": "text/x-python",
   "name": "python",
   "nbconvert_exporter": "python",
   "pygments_lexer": "ipython3",
   "version": "3.7.1"
  }
 },
 "nbformat": 4,
 "nbformat_minor": 2
}
